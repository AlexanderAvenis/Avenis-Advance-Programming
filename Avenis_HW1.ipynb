{
 "cells": [
  {
   "cell_type": "markdown",
   "id": "5e44500c-6018-4fa5-bbbc-3ecceb725c3f",
   "metadata": {},
   "source": [
    "ALPHABET SOUP PROBLEM: Create a function that takes a string and returns a string with its letters\n",
    "in alphabetical order."
   ]
  },
  {
   "cell_type": "code",
   "execution_count": 19,
   "id": "26275404-57d4-4e96-9897-1db08ab11a3f",
   "metadata": {},
   "outputs": [
    {
     "name": "stdin",
     "output_type": "stream",
     "text": [
      "input >>   scramble\n"
     ]
    },
    {
     "data": {
      "text/plain": [
       "'abcelmrs'"
      ]
     },
     "execution_count": 19,
     "metadata": {},
     "output_type": "execute_result"
    }
   ],
   "source": [
    "def alpha_string(string_input):\n",
    "\n",
    "    letter_list = []\n",
    "    for letter in string_input:\n",
    "        letter_list.append(letter)\n",
    "\n",
    "    letter_list.sort()\n",
    "    alphabetized = \"\".join(letter_list)\n",
    "    return alphabetized\n",
    "\n",
    "# sample string: scramble\n",
    "\n",
    "s = input(\"input >>  \")\n",
    "alpha_string(s) \n"
   ]
  },
  {
   "cell_type": "markdown",
   "id": "4c048043-25b3-4e2b-a839-9a4999f154fc",
   "metadata": {},
   "source": [
    "EMOTICON PROBLEM: Create a function that changes specific words into emoticons. Given a sentence\n",
    "as a string, replace the words smile, grin, sad and mad with their corresponding emoticon:"
   ]
  },
  {
   "cell_type": "code",
   "execution_count": 22,
   "id": "374c08b9-9a62-46af-8756-03e585af567a",
   "metadata": {
    "scrolled": true
   },
   "outputs": [
    {
     "name": "stdin",
     "output_type": "stream",
     "text": [
      "sentence >>  i am mad\n"
     ]
    },
    {
     "data": {
      "text/plain": [
       "'i am >:('"
      ]
     },
     "execution_count": 22,
     "metadata": {},
     "output_type": "execute_result"
    }
   ],
   "source": [
    "def emotify(sentence):\n",
    "    \n",
    "    sentence = sentence.replace(\"smile\", \":)\")\n",
    "    sentence = sentence.replace(\"grin\", \":D\")\n",
    "    sentence = sentence.replace(\"sad\", \":((\")\n",
    "    sentence =sentence.replace(\"mad\", \">:(\")\n",
    "    return sentence\n",
    "\n",
    "# sample sentence: Even with a forced smile after the daily grind, she felt sad inside, mad at the world, sad at herself, mad again at the grind, and yet she still tried to smile.\n",
    "\n",
    "sentence = input(\"sentence >> \")\n",
    "emotify(sentence)\n",
    "    "
   ]
  },
  {
   "cell_type": "markdown",
   "id": "4fe0f7d7-d9fc-4d2b-b5e5-14b9f89ca030",
   "metadata": {},
   "source": [
    "UNPACKING LIST PROBLEM: Unpack the list writeyourcodehere into three variables, being first,\n",
    "middle, and last, with middle being everything in between the first and last element. Then print all three\n",
    "variables"
   ]
  },
  {
   "cell_type": "code",
   "execution_count": 58,
   "id": "2c879e0c-7183-4fb8-9b96-bf84320254ed",
   "metadata": {},
   "outputs": [
    {
     "name": "stdout",
     "output_type": "stream",
     "text": [
      "first: 1\n",
      "middle: [2, 3, 4, 5]\n",
      "last: 6\n"
     ]
    }
   ],
   "source": [
    "l = [1, 2, 3, 4, 5, 6]\n",
    "\n",
    "first_element = l[0]\n",
    "last_element = l[-1]\n",
    "\n",
    "l.remove(l[0])\n",
    "l.remove(l[-1])\n",
    "middle_elements = l\n",
    "\n",
    "\n",
    "print(\"first:\", first_element)\n",
    "print(\"middle:\", middle_elements)\n",
    "print(\"last:\", last_element)\n",
    "\n"
   ]
  },
  {
   "cell_type": "code",
   "execution_count": null,
   "id": "16357e4f-5baa-4775-ae3c-f96fd72984e1",
   "metadata": {},
   "outputs": [],
   "source": []
  }
 ],
 "metadata": {
  "kernelspec": {
   "display_name": "Python [conda env:base] *",
   "language": "python",
   "name": "conda-base-py"
  },
  "language_info": {
   "codemirror_mode": {
    "name": "ipython",
    "version": 3
   },
   "file_extension": ".py",
   "mimetype": "text/x-python",
   "name": "python",
   "nbconvert_exporter": "python",
   "pygments_lexer": "ipython3",
   "version": "3.13.5"
  }
 },
 "nbformat": 4,
 "nbformat_minor": 5
}
